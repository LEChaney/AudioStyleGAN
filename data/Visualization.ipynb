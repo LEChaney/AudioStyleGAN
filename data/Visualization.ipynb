{
 "cells": [
  {
   "cell_type": "code",
   "execution_count": 327,
   "metadata": {},
   "outputs": [],
   "source": [
    "from bwfsoundfile import BwfSoundFile\n",
    "import soundfile as sf\n",
    "import librosa\n",
    "from IPython.display import display, Audio\n",
    "import glob\n",
    "import os\n",
    "from joblib import Parallel, delayed\n",
    "import multiprocessing\n",
    "import sys\n",
    "import re"
   ]
  },
  {
   "cell_type": "code",
   "execution_count": 328,
   "metadata": {},
   "outputs": [],
   "source": [
    "conditioning_text = set()"
   ]
  },
  {
   "cell_type": "code",
   "execution_count": 329,
   "metadata": {},
   "outputs": [],
   "source": [
    "def process_file(file_path, root_dir, out_dir='Preprocessed/text_only/', drop_sample_length=16384):\n",
    "    '''\n",
    "    drop_sample_length: Maximum length of the audio clip (in samples) before the audio will be dropped. \n",
    "    This ensures we do learn to generate clipped audio.\n",
    "    root_dir: Only directory structure below the given directory will be used to extract meta data\n",
    "    '''\n",
    "    with BwfSoundFile(file_path) as bwf_file:        \n",
    "        # Extract meta data from file path\n",
    "        # Strip off root directory\n",
    "        cond_text = re.split(root_dir.strip('/').strip('\\\\'), file_path, 1)[-1].strip('/').strip('\\\\')\n",
    "        # Strip off extension\n",
    "        cond_text = cond_text.split('.')[:-1]\n",
    "        cond_text = '.'.join(cond_text)\n",
    "\n",
    "        # Extract extra meta data from BWF headers if available\n",
    "        bwf_file.get_bext()\n",
    "        meta_description = bwf_file.bext_info['description']\n",
    "        if meta_description:\n",
    "            cond_text += ' {}'.format(meta_description)\n",
    "        \n",
    "        # Remove Numbers and newlines\n",
    "        cond_text = re.sub(r'[\\d\\r\\n]+', '', cond_text, re.M)\n",
    "        # Tokenize (splits on and removes any whitespace, dashes, underscores and any other special characters)\n",
    "        cond_text = re.split(r'[\\W_]+', cond_text)\n",
    "        # Rejoin tokens with whitespace for easy feeding to embedding algorithm\n",
    "        cond_text = ' '.join(cond_text)\n",
    "        # Strip whitespace from beginning and end\n",
    "        cond_text = cond_text.strip()\n",
    "        # Make Lowercase\n",
    "        cond_text = cond_text.lower()\n",
    "\n",
    "        conditioning_text.add(cond_text)"
   ]
  },
  {
   "cell_type": "code",
   "execution_count": 330,
   "metadata": {},
   "outputs": [],
   "source": [
    "out_dir = 'Preprocessed/text_only/'\n",
    "if not os.path.isdir(out_dir):\n",
    "    os.mkdir(out_dir)"
   ]
  },
  {
   "cell_type": "code",
   "execution_count": 331,
   "metadata": {},
   "outputs": [],
   "source": [
    "file_list = []\n",
    "root_dir = 'Source'\n",
    "for filename in glob.iglob(os.path.join(root_dir, '**/*.wav'), recursive=True):\n",
    "    file_list.append(filename)"
   ]
  },
  {
   "cell_type": "code",
   "execution_count": 332,
   "metadata": {},
   "outputs": [],
   "source": [
    "for filename in file_list:\n",
    "    process_file(filename, root_dir, out_dir)"
   ]
  },
  {
   "cell_type": "code",
   "execution_count": 333,
   "metadata": {},
   "outputs": [],
   "source": [
    "extra_items = ['banana', 'shotgun cock', 'polarity shotgun blast metallic explosion crunch punchy massive', 'explosion', 'fireball whoosh', 'fireball explosion', 'footsteps cartoon', 'footsteps fart']\n",
    "for item in extra_items:\n",
    "    conditioning_text.add(item)"
   ]
  },
  {
   "cell_type": "code",
   "execution_count": 334,
   "metadata": {},
   "outputs": [
    {
     "name": "stdout",
     "output_type": "stream",
     "text": [
      "2303\n"
     ]
    }
   ],
   "source": [
    "conditioning_text = list(conditioning_text)\n",
    "print(len(conditioning_text))"
   ]
  },
  {
   "cell_type": "code",
   "execution_count": 335,
   "metadata": {},
   "outputs": [],
   "source": [
    "import tensorflow as tf\n",
    "import tensorflow_hub as hub\n",
    "from tensorflow.contrib.tensorboard.plugins import projector"
   ]
  },
  {
   "cell_type": "code",
   "execution_count": 336,
   "metadata": {},
   "outputs": [],
   "source": [
    "LOGDIR = 'embed_visualization/'\n",
    "if not os.path.isdir(LOGDIR):\n",
    "    os.mkdir(LOGDIR)"
   ]
  },
  {
   "cell_type": "code",
   "execution_count": 337,
   "metadata": {},
   "outputs": [],
   "source": [
    "# Write vocab to file\n",
    "import csv\n",
    "with open(os.path.join(LOGDIR, 'vocab.tsv'), 'w') as vocab_file:\n",
    "    wr = csv.writer(vocab_file, delimiter='\\t', lineterminator='\\n')\n",
    "    for line in conditioning_text:\n",
    "        wr.writerow([line])"
   ]
  },
  {
   "cell_type": "code",
   "execution_count": 338,
   "metadata": {},
   "outputs": [
    {
     "name": "stdout",
     "output_type": "stream",
     "text": [
      "INFO:tensorflow:Saver not created because there are no variables in the graph to restore\n",
      "(2303, 128)\n"
     ]
    }
   ],
   "source": [
    "tf.reset_default_graph()\n",
    "\n",
    "with tf.Session() as sess:\n",
    "    embed_op = hub.Module(\"https://tfhub.dev/google/nnlm-en-dim128-with-normalization/1\", trainable=False, name='embed')\n",
    "    \n",
    "    cond_text_ph = tf.placeholder(tf.string, shape=[None], name='cond_text_ph')\n",
    "    embeddings_op = embed_op(cond_text_ph)\n",
    "\n",
    "    sess.run(tf.global_variables_initializer())\n",
    "    sess.run(tf.tables_initializer())\n",
    "    \n",
    "    embeddings = tf.zeros([0, 128])\n",
    "    batch_size = 128\n",
    "    for batch_start in range(0, len(conditioning_text), batch_size):\n",
    "        batch_end = batch_start + batch_size\n",
    "        cond_text_batch = conditioning_text[batch_start:batch_end]\n",
    "        embeddings = sess.run(tf.concat([embeddings, embeddings_op], 0), {cond_text_ph: cond_text_batch})\n",
    "    print(embeddings.shape)\n",
    "    \n",
    "    # Convert to variable for visualization in tensorboard\n",
    "    embeddings_var = tf.get_variable('embeddings_var', initializer=embeddings)\n",
    "    sess.run(embeddings_var.initializer)\n",
    "    \n",
    "    # Get projector config and summary writer\n",
    "    config = projector.ProjectorConfig()\n",
    "    summary_writer = tf.summary.FileWriter(LOGDIR)\n",
    "    \n",
    "    # add embeddings to config\n",
    "    embeddings_config = config.embeddings.add()\n",
    "    embeddings_config.tensor_name = embeddings_var.name\n",
    "    \n",
    "    # link the embeddings to their metadata file. In this case, the file that contains\n",
    "    # the 500 most popular words in our vocabulary\n",
    "    embeddings_config.metadata_path = 'vocab.tsv'\n",
    "    \n",
    "    # save a configuration file that TensorBoard will read during startup\n",
    "    projector.visualize_embeddings(summary_writer, config)\n",
    "\n",
    "    # save our embedding\n",
    "    saver_embed = tf.train.Saver([embeddings_var])\n",
    "    saver_embed.save(sess, LOGDIR + '/embed.ckpt', 1)\n",
    "    \n",
    "tf.reset_default_graph()"
   ]
  },
  {
   "cell_type": "code",
   "execution_count": null,
   "metadata": {},
   "outputs": [],
   "source": []
  }
 ],
 "metadata": {
  "kernelspec": {
   "display_name": "Python [conda env:tensorflow]",
   "language": "python",
   "name": "conda-env-tensorflow-py"
  },
  "language_info": {
   "codemirror_mode": {
    "name": "ipython",
    "version": 3
   },
   "file_extension": ".py",
   "mimetype": "text/x-python",
   "name": "python",
   "nbconvert_exporter": "python",
   "pygments_lexer": "ipython3",
   "version": "3.5.5"
  }
 },
 "nbformat": 4,
 "nbformat_minor": 2
}
